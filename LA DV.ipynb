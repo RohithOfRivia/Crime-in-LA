{
 "cells": [
  {
   "cell_type": "code",
   "execution_count": 1,
   "id": "2ab9c4db",
   "metadata": {},
   "outputs": [
    {
     "data": {
      "text/html": [
       "<style>.container { width:80% !important; }</style>"
      ],
      "text/plain": [
       "<IPython.core.display.HTML object>"
      ]
     },
     "metadata": {},
     "output_type": "display_data"
    }
   ],
   "source": [
    "import pandas as pd\n",
    "import sys\n",
    "import numpy as np\n",
    "import matplotlib.pyplot as plt\n",
    "import seaborn as sns\n",
    "import random\n",
    "import warnings\n",
    "warnings.filterwarnings('ignore')\n",
    "from IPython.core.display import display, HTML\n",
    "display(HTML(\"<style>.container { width:80% !important; }</style>\"))\n",
    "pd.set_option('display.max_colwidth', 2000)"
   ]
  },
  {
   "cell_type": "markdown",
   "id": "49c079d9",
   "metadata": {},
   "source": [
    "## Columns in this Dataset\n",
    "\n",
    "DR_NO\t\n",
    "Division of Records Number: Official file number made up of a 2 digit year, area ID, and 5 digits\n",
    "Plain Text\n",
    "Data Type\n",
    "Text\n",
    "API Field Name\n",
    "dr_no\n",
    "\n",
    "Date Rptd\t\n",
    "MM/DD/YYYY\n",
    "Date & Time\n",
    "Data Type\n",
    "Floating Timestamp\n",
    "API Field Name\n",
    "date_rptd\n",
    "\n",
    "DATE OCC\t\n",
    "MM/DD/YYYY\n",
    "Date & Time\n",
    "Data Type\n",
    "Floating Timestamp\n",
    "API Field Name\n",
    "date_occ\n",
    "\n",
    "TIME OCC\t\n",
    "In 24 hour military time.\n",
    "Plain Text\n",
    "\n",
    "AREA\t\n",
    "The LAPD has 21 Community Police Stations referred to as Geographic Areas within the department. These Geographic Areas are sequentially numbered from 1-21.\n",
    "Plain Text\n",
    "Data Type\n",
    "Text\n",
    "API Field Name\n",
    "area\n",
    "AREA NAME\t\n",
    "The 21 Geographic Areas or Patrol Divisions are also given a name designation that references a landmark or the surrounding community that it is responsible for. For example 77th Street Division is located at the intersection of South Broadway and 77th Street, serving neighborhoods in South Los Angeles.\n",
    "Plain Text\n",
    "Data Type\n",
    "Text\n",
    "\n",
    "API Field Name\n",
    "area_name\n",
    "Rpt Dist No\t\n",
    "A four-digit code that represents a sub-area within a Geographic Area. All crime records reference the \"RD\" that it occurred in for statistical comparisons. Find LAPD Reporting Districts on the LA City GeoHub at http://geohub.lacity.org/datasets/c4f83909b81d4786aa8ba8a74a4b4db1_4\n",
    "Plain Text\n",
    "Data Type\n",
    "Text\n",
    "\n",
    "API Field Name\n",
    "rpt_dist_no\n",
    "Part 1-2\t\n",
    "Number\n",
    "Data Type\n",
    "Number\n",
    "\n",
    "API Field Name\n",
    "part_1_2\n",
    "Crm Cd\t\n",
    "Indicates the crime committed. (Same as Crime Code 1)\n",
    "Plain Text\n",
    "Data Type\n",
    "Text\n",
    "\n",
    "API Field Name\n",
    "crm_cd\n",
    "Crm Cd Desc\t\n",
    "Defines the Crime Code provided.\n",
    "Plain Text\n",
    "Data Type\n",
    "Text\n",
    "API Field Name\n",
    "crm_cd_desc\n",
    "\n",
    "Mocodes\t\n",
    "Modus Operandi: Activities associated with the suspect in commission of the crime.See attached PDF for list of MO Codes in numerical order. https://data.lacity.org/api/views/y8tr-7khq/files/3a967fbd-f210-4857-bc52-60230efe256c?download=true&filename=MO%20CODES%20(numerical%20order).pdf\n",
    "Plain Text\n",
    "Data Type\n",
    "Text\n",
    "API Field Name\n",
    "mocodes\n",
    "\n",
    "Vict Age\t\n",
    "Two character numeric\n",
    "Plain Text\n",
    "Data Type\n",
    "Text\n",
    "API Field Name\n",
    "vict_age\n",
    "\n",
    "Vict Sex\t\n",
    "F - Female M - Male X - Unknown\n",
    "Plain Text\n",
    "Vict Descent\t\n",
    "Descent Code: A - Other Asian B - Black C - Chinese D - Cambodian F - Filipino G - Guamanian H - Hispanic/Latin/Mexican I - American Indian/Alaskan Native J - Japanese K - Korean L - Laotian O - Other P - Pacific Islander S - Samoan U - Hawaiian V - Vietnamese W - White X - Unknown Z - Asian Indian\n",
    "Plain Text\n",
    "Data Type\n",
    "Text\n",
    "API Field Name\n",
    "vict_descent\n",
    "\n",
    "Premis Cd\t\n",
    "The type of structure, vehicle, or location where the crime took place.\n",
    "Number\n",
    "Data Type\n",
    "Number\n",
    "API Field Name\n",
    "premis_cd\n",
    "\n",
    "Premis Desc\t\n",
    "Defines the Premise Code provided.\n",
    "Plain Text\n",
    "Data Type\n",
    "Text\n",
    "API Field Name\n",
    "premis_desc\n",
    "\n",
    "Weapon Used Cd\t\n",
    "The type of weapon used in the crime.\n",
    "Plain Text\n",
    "Data Type\n",
    "Text\n",
    "API Field Name\n",
    "weapon_used_cd\n",
    "\n",
    "Weapon Desc\t\n",
    "Defines the Weapon Used Code provided.\n",
    "Plain Text\n",
    "Data Type\n",
    "Text\n",
    "API Field Name\n",
    "weapon_desc\n",
    "\n",
    "Status\t\n",
    "Status of the case. (IC is the default)\n",
    "Plain Text\n",
    "Data Type\n",
    "Text\n",
    "API Field Name\n",
    "status\n",
    "Status Desc\t\n",
    "Defines the Status Code provided.\n",
    "Plain Text\n",
    "\n",
    "Crm Cd 1\t\n",
    "Indicates the crime committed. Crime Code 1 is the primary and most serious one. Crime Code 2, 3, and 4 are respectively less serious offenses. Lower crime class numbers are more serious.\n",
    "Plain Text\n",
    "Data Type\n",
    "Text\n",
    "API Field Name\n",
    "crm_cd_1\n",
    "\n",
    "Crm Cd 2\t\n",
    "May contain a code for an additional crime, less serious than Crime Code 1.\n",
    "Plain Text\n",
    "Data Type\n",
    "Text\n",
    "API Field Name\n",
    "crm_cd_2\n",
    "\n",
    "Crm Cd 3\t\n",
    "May contain a code for an additional crime, less serious than Crime Code 1.\n",
    "Plain Text\n",
    "Data Type\n",
    "Text\n",
    "API Field Name\n",
    "crm_cd_3\n",
    "\n",
    "Crm Cd 4\t\n",
    "May contain a code for an additional crime, less serious than Crime Code 1.\n",
    "Plain Text\n",
    "Data Type\n",
    "Text\n",
    "API Field Name\n",
    "crm_cd_4\n",
    "\n",
    "LOCATION\t\n",
    "Street address of crime incident rounded to the nearest hundred block to maintain anonymity.\n",
    "Plain Text\n",
    "Data Type\n",
    "Text\n",
    "API Field Name\n",
    "location\n",
    "\n",
    "Cross Street\t\n",
    "Cross Street of rounded Address\n",
    "Plain Text\n",
    "Data Type\n",
    "Text\n",
    "API Field Name\n",
    "cross_street\n",
    "\n",
    "LAT\t\n",
    "Latitude\n",
    "Number\n",
    "\n",
    "LON\t\n",
    "Longtitude\n",
    "Number\n"
   ]
  },
  {
   "cell_type": "code",
   "execution_count": 5,
   "id": "acbcee98",
   "metadata": {},
   "outputs": [
    {
     "data": {
      "text/html": [
       "<div>\n",
       "<style scoped>\n",
       "    .dataframe tbody tr th:only-of-type {\n",
       "        vertical-align: middle;\n",
       "    }\n",
       "\n",
       "    .dataframe tbody tr th {\n",
       "        vertical-align: top;\n",
       "    }\n",
       "\n",
       "    .dataframe thead th {\n",
       "        text-align: right;\n",
       "    }\n",
       "</style>\n",
       "<table border=\"1\" class=\"dataframe\">\n",
       "  <thead>\n",
       "    <tr style=\"text-align: right;\">\n",
       "      <th></th>\n",
       "      <th>DR_NO</th>\n",
       "      <th>Date Rptd</th>\n",
       "      <th>DATE OCC</th>\n",
       "      <th>TIME OCC</th>\n",
       "      <th>AREA</th>\n",
       "      <th>AREA NAME</th>\n",
       "      <th>Rpt Dist No</th>\n",
       "      <th>Part 1-2</th>\n",
       "      <th>Crm Cd</th>\n",
       "      <th>Crm Cd Desc</th>\n",
       "      <th>...</th>\n",
       "      <th>Status</th>\n",
       "      <th>Status Desc</th>\n",
       "      <th>Crm Cd 1</th>\n",
       "      <th>Crm Cd 2</th>\n",
       "      <th>Crm Cd 3</th>\n",
       "      <th>Crm Cd 4</th>\n",
       "      <th>LOCATION</th>\n",
       "      <th>Cross Street</th>\n",
       "      <th>LAT</th>\n",
       "      <th>LON</th>\n",
       "    </tr>\n",
       "  </thead>\n",
       "  <tbody>\n",
       "    <tr>\n",
       "      <th>0</th>\n",
       "      <td>10304468</td>\n",
       "      <td>01/08/2020 12:00:00 AM</td>\n",
       "      <td>01/08/2020 12:00:00 AM</td>\n",
       "      <td>2230</td>\n",
       "      <td>3</td>\n",
       "      <td>Southwest</td>\n",
       "      <td>377</td>\n",
       "      <td>2</td>\n",
       "      <td>624</td>\n",
       "      <td>BATTERY - SIMPLE ASSAULT</td>\n",
       "      <td>...</td>\n",
       "      <td>AO</td>\n",
       "      <td>Adult Other</td>\n",
       "      <td>624.0</td>\n",
       "      <td>NaN</td>\n",
       "      <td>NaN</td>\n",
       "      <td>NaN</td>\n",
       "      <td>1100 W  39TH                         PL</td>\n",
       "      <td>NaN</td>\n",
       "      <td>34.0141</td>\n",
       "      <td>-118.2978</td>\n",
       "    </tr>\n",
       "    <tr>\n",
       "      <th>1</th>\n",
       "      <td>190101086</td>\n",
       "      <td>01/02/2020 12:00:00 AM</td>\n",
       "      <td>01/01/2020 12:00:00 AM</td>\n",
       "      <td>330</td>\n",
       "      <td>1</td>\n",
       "      <td>Central</td>\n",
       "      <td>163</td>\n",
       "      <td>2</td>\n",
       "      <td>624</td>\n",
       "      <td>BATTERY - SIMPLE ASSAULT</td>\n",
       "      <td>...</td>\n",
       "      <td>IC</td>\n",
       "      <td>Invest Cont</td>\n",
       "      <td>624.0</td>\n",
       "      <td>NaN</td>\n",
       "      <td>NaN</td>\n",
       "      <td>NaN</td>\n",
       "      <td>700 S  HILL                         ST</td>\n",
       "      <td>NaN</td>\n",
       "      <td>34.0459</td>\n",
       "      <td>-118.2545</td>\n",
       "    </tr>\n",
       "    <tr>\n",
       "      <th>2</th>\n",
       "      <td>191501505</td>\n",
       "      <td>01/01/2020 12:00:00 AM</td>\n",
       "      <td>01/01/2020 12:00:00 AM</td>\n",
       "      <td>1730</td>\n",
       "      <td>15</td>\n",
       "      <td>N Hollywood</td>\n",
       "      <td>1543</td>\n",
       "      <td>2</td>\n",
       "      <td>745</td>\n",
       "      <td>VANDALISM - MISDEAMEANOR ($399 OR UNDER)</td>\n",
       "      <td>...</td>\n",
       "      <td>IC</td>\n",
       "      <td>Invest Cont</td>\n",
       "      <td>745.0</td>\n",
       "      <td>998.0</td>\n",
       "      <td>NaN</td>\n",
       "      <td>NaN</td>\n",
       "      <td>5400    CORTEEN                      PL</td>\n",
       "      <td>NaN</td>\n",
       "      <td>34.1685</td>\n",
       "      <td>-118.4019</td>\n",
       "    </tr>\n",
       "    <tr>\n",
       "      <th>3</th>\n",
       "      <td>191921269</td>\n",
       "      <td>01/01/2020 12:00:00 AM</td>\n",
       "      <td>01/01/2020 12:00:00 AM</td>\n",
       "      <td>415</td>\n",
       "      <td>19</td>\n",
       "      <td>Mission</td>\n",
       "      <td>1998</td>\n",
       "      <td>2</td>\n",
       "      <td>740</td>\n",
       "      <td>VANDALISM - FELONY ($400 &amp; OVER, ALL CHURCH VANDALISMS)</td>\n",
       "      <td>...</td>\n",
       "      <td>IC</td>\n",
       "      <td>Invest Cont</td>\n",
       "      <td>740.0</td>\n",
       "      <td>NaN</td>\n",
       "      <td>NaN</td>\n",
       "      <td>NaN</td>\n",
       "      <td>14400    TITUS                        ST</td>\n",
       "      <td>NaN</td>\n",
       "      <td>34.2198</td>\n",
       "      <td>-118.4468</td>\n",
       "    </tr>\n",
       "    <tr>\n",
       "      <th>4</th>\n",
       "      <td>200100501</td>\n",
       "      <td>01/02/2020 12:00:00 AM</td>\n",
       "      <td>01/01/2020 12:00:00 AM</td>\n",
       "      <td>30</td>\n",
       "      <td>1</td>\n",
       "      <td>Central</td>\n",
       "      <td>163</td>\n",
       "      <td>1</td>\n",
       "      <td>121</td>\n",
       "      <td>RAPE, FORCIBLE</td>\n",
       "      <td>...</td>\n",
       "      <td>IC</td>\n",
       "      <td>Invest Cont</td>\n",
       "      <td>121.0</td>\n",
       "      <td>998.0</td>\n",
       "      <td>NaN</td>\n",
       "      <td>NaN</td>\n",
       "      <td>700 S  BROADWAY</td>\n",
       "      <td>NaN</td>\n",
       "      <td>34.0452</td>\n",
       "      <td>-118.2534</td>\n",
       "    </tr>\n",
       "    <tr>\n",
       "      <th>...</th>\n",
       "      <td>...</td>\n",
       "      <td>...</td>\n",
       "      <td>...</td>\n",
       "      <td>...</td>\n",
       "      <td>...</td>\n",
       "      <td>...</td>\n",
       "      <td>...</td>\n",
       "      <td>...</td>\n",
       "      <td>...</td>\n",
       "      <td>...</td>\n",
       "      <td>...</td>\n",
       "      <td>...</td>\n",
       "      <td>...</td>\n",
       "      <td>...</td>\n",
       "      <td>...</td>\n",
       "      <td>...</td>\n",
       "      <td>...</td>\n",
       "      <td>...</td>\n",
       "      <td>...</td>\n",
       "      <td>...</td>\n",
       "      <td>...</td>\n",
       "    </tr>\n",
       "    <tr>\n",
       "      <th>541348</th>\n",
       "      <td>220314584</td>\n",
       "      <td>08/02/2022 12:00:00 AM</td>\n",
       "      <td>08/02/2022 12:00:00 AM</td>\n",
       "      <td>10</td>\n",
       "      <td>3</td>\n",
       "      <td>Southwest</td>\n",
       "      <td>334</td>\n",
       "      <td>2</td>\n",
       "      <td>354</td>\n",
       "      <td>THEFT OF IDENTITY</td>\n",
       "      <td>...</td>\n",
       "      <td>IC</td>\n",
       "      <td>Invest Cont</td>\n",
       "      <td>354.0</td>\n",
       "      <td>NaN</td>\n",
       "      <td>NaN</td>\n",
       "      <td>NaN</td>\n",
       "      <td>4300 W  28TH                         ST</td>\n",
       "      <td>NaN</td>\n",
       "      <td>34.0311</td>\n",
       "      <td>-118.3335</td>\n",
       "    </tr>\n",
       "    <tr>\n",
       "      <th>541349</th>\n",
       "      <td>221005507</td>\n",
       "      <td>02/10/2022 12:00:00 AM</td>\n",
       "      <td>02/09/2022 12:00:00 AM</td>\n",
       "      <td>1530</td>\n",
       "      <td>10</td>\n",
       "      <td>West Valley</td>\n",
       "      <td>1024</td>\n",
       "      <td>1</td>\n",
       "      <td>510</td>\n",
       "      <td>VEHICLE - STOLEN</td>\n",
       "      <td>...</td>\n",
       "      <td>IC</td>\n",
       "      <td>Invest Cont</td>\n",
       "      <td>510.0</td>\n",
       "      <td>NaN</td>\n",
       "      <td>NaN</td>\n",
       "      <td>NaN</td>\n",
       "      <td>18800    SHERMAN                      WY</td>\n",
       "      <td>NaN</td>\n",
       "      <td>34.2011</td>\n",
       "      <td>-118.5426</td>\n",
       "    </tr>\n",
       "    <tr>\n",
       "      <th>541350</th>\n",
       "      <td>221105477</td>\n",
       "      <td>02/10/2022 12:00:00 AM</td>\n",
       "      <td>02/08/2022 12:00:00 AM</td>\n",
       "      <td>2000</td>\n",
       "      <td>11</td>\n",
       "      <td>Northeast</td>\n",
       "      <td>1171</td>\n",
       "      <td>1</td>\n",
       "      <td>510</td>\n",
       "      <td>VEHICLE - STOLEN</td>\n",
       "      <td>...</td>\n",
       "      <td>IC</td>\n",
       "      <td>Invest Cont</td>\n",
       "      <td>510.0</td>\n",
       "      <td>NaN</td>\n",
       "      <td>NaN</td>\n",
       "      <td>NaN</td>\n",
       "      <td>4000    FOUNTAIN                     AV</td>\n",
       "      <td>NaN</td>\n",
       "      <td>34.0958</td>\n",
       "      <td>-118.2787</td>\n",
       "    </tr>\n",
       "    <tr>\n",
       "      <th>541351</th>\n",
       "      <td>221605448</td>\n",
       "      <td>02/15/2022 12:00:00 AM</td>\n",
       "      <td>02/14/2022 12:00:00 AM</td>\n",
       "      <td>1800</td>\n",
       "      <td>16</td>\n",
       "      <td>Foothill</td>\n",
       "      <td>1613</td>\n",
       "      <td>1</td>\n",
       "      <td>331</td>\n",
       "      <td>THEFT FROM MOTOR VEHICLE - GRAND ($950.01 AND OVER)</td>\n",
       "      <td>...</td>\n",
       "      <td>IC</td>\n",
       "      <td>Invest Cont</td>\n",
       "      <td>331.0</td>\n",
       "      <td>NaN</td>\n",
       "      <td>NaN</td>\n",
       "      <td>NaN</td>\n",
       "      <td>12700    VAN NUYS                     BL</td>\n",
       "      <td>NaN</td>\n",
       "      <td>34.2755</td>\n",
       "      <td>-118.4092</td>\n",
       "    </tr>\n",
       "    <tr>\n",
       "      <th>541352</th>\n",
       "      <td>221315621</td>\n",
       "      <td>08/07/2022 12:00:00 AM</td>\n",
       "      <td>08/07/2022 12:00:00 AM</td>\n",
       "      <td>150</td>\n",
       "      <td>13</td>\n",
       "      <td>Newton</td>\n",
       "      <td>1367</td>\n",
       "      <td>1</td>\n",
       "      <td>230</td>\n",
       "      <td>ASSAULT WITH DEADLY WEAPON, AGGRAVATED ASSAULT</td>\n",
       "      <td>...</td>\n",
       "      <td>IC</td>\n",
       "      <td>Invest Cont</td>\n",
       "      <td>230.0</td>\n",
       "      <td>NaN</td>\n",
       "      <td>NaN</td>\n",
       "      <td>NaN</td>\n",
       "      <td>48TH                         ST</td>\n",
       "      <td>LONG BEACH                   AV</td>\n",
       "      <td>33.9994</td>\n",
       "      <td>-118.2434</td>\n",
       "    </tr>\n",
       "  </tbody>\n",
       "</table>\n",
       "<p>541353 rows × 28 columns</p>\n",
       "</div>"
      ],
      "text/plain": [
       "            DR_NO               Date Rptd                DATE OCC  TIME OCC  \\\n",
       "0        10304468  01/08/2020 12:00:00 AM  01/08/2020 12:00:00 AM      2230   \n",
       "1       190101086  01/02/2020 12:00:00 AM  01/01/2020 12:00:00 AM       330   \n",
       "2       191501505  01/01/2020 12:00:00 AM  01/01/2020 12:00:00 AM      1730   \n",
       "3       191921269  01/01/2020 12:00:00 AM  01/01/2020 12:00:00 AM       415   \n",
       "4       200100501  01/02/2020 12:00:00 AM  01/01/2020 12:00:00 AM        30   \n",
       "...           ...                     ...                     ...       ...   \n",
       "541348  220314584  08/02/2022 12:00:00 AM  08/02/2022 12:00:00 AM        10   \n",
       "541349  221005507  02/10/2022 12:00:00 AM  02/09/2022 12:00:00 AM      1530   \n",
       "541350  221105477  02/10/2022 12:00:00 AM  02/08/2022 12:00:00 AM      2000   \n",
       "541351  221605448  02/15/2022 12:00:00 AM  02/14/2022 12:00:00 AM      1800   \n",
       "541352  221315621  08/07/2022 12:00:00 AM  08/07/2022 12:00:00 AM       150   \n",
       "\n",
       "        AREA    AREA NAME  Rpt Dist No  Part 1-2  Crm Cd  \\\n",
       "0          3    Southwest          377         2     624   \n",
       "1          1      Central          163         2     624   \n",
       "2         15  N Hollywood         1543         2     745   \n",
       "3         19      Mission         1998         2     740   \n",
       "4          1      Central          163         1     121   \n",
       "...      ...          ...          ...       ...     ...   \n",
       "541348     3    Southwest          334         2     354   \n",
       "541349    10  West Valley         1024         1     510   \n",
       "541350    11    Northeast         1171         1     510   \n",
       "541351    16     Foothill         1613         1     331   \n",
       "541352    13       Newton         1367         1     230   \n",
       "\n",
       "                                                    Crm Cd Desc  ... Status  \\\n",
       "0                                      BATTERY - SIMPLE ASSAULT  ...     AO   \n",
       "1                                      BATTERY - SIMPLE ASSAULT  ...     IC   \n",
       "2                      VANDALISM - MISDEAMEANOR ($399 OR UNDER)  ...     IC   \n",
       "3       VANDALISM - FELONY ($400 & OVER, ALL CHURCH VANDALISMS)  ...     IC   \n",
       "4                                                RAPE, FORCIBLE  ...     IC   \n",
       "...                                                         ...  ...    ...   \n",
       "541348                                        THEFT OF IDENTITY  ...     IC   \n",
       "541349                                         VEHICLE - STOLEN  ...     IC   \n",
       "541350                                         VEHICLE - STOLEN  ...     IC   \n",
       "541351      THEFT FROM MOTOR VEHICLE - GRAND ($950.01 AND OVER)  ...     IC   \n",
       "541352           ASSAULT WITH DEADLY WEAPON, AGGRAVATED ASSAULT  ...     IC   \n",
       "\n",
       "        Status Desc Crm Cd 1 Crm Cd 2  Crm Cd 3 Crm Cd 4  \\\n",
       "0       Adult Other    624.0      NaN       NaN      NaN   \n",
       "1       Invest Cont    624.0      NaN       NaN      NaN   \n",
       "2       Invest Cont    745.0    998.0       NaN      NaN   \n",
       "3       Invest Cont    740.0      NaN       NaN      NaN   \n",
       "4       Invest Cont    121.0    998.0       NaN      NaN   \n",
       "...             ...      ...      ...       ...      ...   \n",
       "541348  Invest Cont    354.0      NaN       NaN      NaN   \n",
       "541349  Invest Cont    510.0      NaN       NaN      NaN   \n",
       "541350  Invest Cont    510.0      NaN       NaN      NaN   \n",
       "541351  Invest Cont    331.0      NaN       NaN      NaN   \n",
       "541352  Invest Cont    230.0      NaN       NaN      NaN   \n",
       "\n",
       "                                        LOCATION  \\\n",
       "0        1100 W  39TH                         PL   \n",
       "1         700 S  HILL                         ST   \n",
       "2        5400    CORTEEN                      PL   \n",
       "3       14400    TITUS                        ST   \n",
       "4                                700 S  BROADWAY   \n",
       "...                                          ...   \n",
       "541348   4300 W  28TH                         ST   \n",
       "541349  18800    SHERMAN                      WY   \n",
       "541350   4000    FOUNTAIN                     AV   \n",
       "541351  12700    VAN NUYS                     BL   \n",
       "541352           48TH                         ST   \n",
       "\n",
       "                           Cross Street      LAT       LON  \n",
       "0                                   NaN  34.0141 -118.2978  \n",
       "1                                   NaN  34.0459 -118.2545  \n",
       "2                                   NaN  34.1685 -118.4019  \n",
       "3                                   NaN  34.2198 -118.4468  \n",
       "4                                   NaN  34.0452 -118.2534  \n",
       "...                                 ...      ...       ...  \n",
       "541348                              NaN  34.0311 -118.3335  \n",
       "541349                              NaN  34.2011 -118.5426  \n",
       "541350                              NaN  34.0958 -118.2787  \n",
       "541351                              NaN  34.2755 -118.4092  \n",
       "541352  LONG BEACH                   AV  33.9994 -118.2434  \n",
       "\n",
       "[541353 rows x 28 columns]"
      ]
     },
     "execution_count": 5,
     "metadata": {},
     "output_type": "execute_result"
    }
   ],
   "source": [
    "df = pd.read_csv('Crime_Data_from_2020_to_Present.csv')\n",
    "df"
   ]
  },
  {
   "cell_type": "code",
   "execution_count": 11,
   "id": "4b208961",
   "metadata": {},
   "outputs": [
    {
     "data": {
      "text/plain": [
       "DR_NO                  0\n",
       "Date Rptd              0\n",
       "DATE OCC               0\n",
       "TIME OCC               0\n",
       "AREA                   0\n",
       "AREA NAME              0\n",
       "Rpt Dist No            0\n",
       "Part 1-2               0\n",
       "Crm Cd                 0\n",
       "Crm Cd Desc            0\n",
       "Mocodes            75111\n",
       "Vict Age               0\n",
       "Vict Sex           71881\n",
       "Vict Descent       71886\n",
       "Premis Cd              5\n",
       "Premis Desc          246\n",
       "Weapon Used Cd    348835\n",
       "Weapon Desc       348835\n",
       "Status                 0\n",
       "Status Desc            0\n",
       "Crm Cd 1               6\n",
       "Crm Cd 2          499529\n",
       "Crm Cd 3          539924\n",
       "Crm Cd 4          541312\n",
       "LOCATION               0\n",
       "Cross Street      449474\n",
       "LAT                    0\n",
       "LON                    0\n",
       "dtype: int64"
      ]
     },
     "execution_count": 11,
     "metadata": {},
     "output_type": "execute_result"
    }
   ],
   "source": [
    "df.isna().sum()"
   ]
  },
  {
   "cell_type": "markdown",
   "id": "6770dc3d",
   "metadata": {},
   "source": [
    "### Most of the meaningful attributes are clean\n",
    "\n",
    "Mocodes attribute is not always present in a crime so it is understandable that there is a lot of null values for that attribute. Same for Crm Cd1. There can be multiple charges for one crime, but from this dataset, it shows that majority of the crimes result in just one charge.\n",
    "\n",
    "The Vict Sex attribute has a lot of missing values."
   ]
  },
  {
   "cell_type": "code",
   "execution_count": 12,
   "id": "575bda85",
   "metadata": {
    "scrolled": true
   },
   "outputs": [
    {
     "data": {
      "text/plain": [
       "array(['BATTERY - SIMPLE ASSAULT',\n",
       "       'VANDALISM - MISDEAMEANOR ($399 OR UNDER)',\n",
       "       'VANDALISM - FELONY ($400 & OVER, ALL CHURCH VANDALISMS)',\n",
       "       'RAPE, FORCIBLE', 'SHOPLIFTING - PETTY THEFT ($950 & UNDER)',\n",
       "       'OTHER MISCELLANEOUS CRIME',\n",
       "       'THEFT-GRAND ($950.01 & OVER)EXCPT,GUNS,FOWL,LIVESTK,PROD',\n",
       "       'BURGLARY FROM VEHICLE', 'CRIMINAL THREATS - NO WEAPON DISPLAYED',\n",
       "       'ARSON', 'THEFT PLAIN - PETTY ($950 & UNDER)', 'ROBBERY',\n",
       "       'ASSAULT WITH DEADLY WEAPON, AGGRAVATED ASSAULT',\n",
       "       'VEHICLE - STOLEN', 'BURGLARY',\n",
       "       'INTIMATE PARTNER - SIMPLE ASSAULT', 'THEFT, PERSON',\n",
       "       'BATTERY WITH SEXUAL CONTACT', 'BIKE - STOLEN',\n",
       "       'BATTERY POLICE (SIMPLE)', 'TRESPASSING', 'BRANDISH WEAPON',\n",
       "       'THEFT FROM MOTOR VEHICLE - PETTY ($950 & UNDER)',\n",
       "       'THEFT FROM MOTOR VEHICLE - ATTEMPT',\n",
       "       'THROWING OBJECT AT MOVING VEHICLE', 'THEFT OF IDENTITY',\n",
       "       'BUNCO, GRAND THEFT', 'INTIMATE PARTNER - AGGRAVATED ASSAULT',\n",
       "       'ATTEMPTED ROBBERY', 'OTHER ASSAULT', 'BOMB SCARE',\n",
       "       'SEXUAL PENETRATION W/FOREIGN OBJECT', 'VIOLATION OF COURT ORDER',\n",
       "       'SHOTS FIRED AT INHABITED DWELLING', 'BURGLARY, ATTEMPTED',\n",
       "       'VIOLATION OF RESTRAINING ORDER',\n",
       "       'LETTERS, LEWD  -  TELEPHONE CALLS, LEWD', 'INDECENT EXPOSURE',\n",
       "       'VIOLATION OF TEMPORARY RESTRAINING ORDER', 'BUNCO, PETTY THEFT',\n",
       "       'KIDNAPPING - GRAND ATTEMPT',\n",
       "       'SHOPLIFTING-GRAND THEFT ($950.01 & OVER)', 'RESISTING ARREST',\n",
       "       'DISCHARGE FIREARMS/SHOTS FIRED', 'KIDNAPPING', 'LEWD CONDUCT',\n",
       "       'PURSE SNATCHING',\n",
       "       'SODOMY/SEXUAL CONTACT B/W PENIS OF ONE PERS TO ANUS OTH',\n",
       "       'VEHICLE - MOTORIZED SCOOTERS, BICYCLES, AND WHEELCHAIRS',\n",
       "       'CHILD NEGLECT (SEE 300 W.I.C.)', 'CONTEMPT OF COURT',\n",
       "       'DOCUMENT FORGERY / STOLEN FELONY',\n",
       "       'EMBEZZLEMENT, GRAND THEFT ($950.01 & OVER)', 'BUNCO, ATTEMPT',\n",
       "       'ORAL COPULATION', 'THEFT PLAIN - ATTEMPT',\n",
       "       'THEFT FROM MOTOR VEHICLE - GRAND ($950.01 AND OVER)',\n",
       "       'CHILD ABUSE (PHYSICAL) - SIMPLE ASSAULT', 'RAPE, ATTEMPTED',\n",
       "       'SHOPLIFTING - ATTEMPT', 'EXTORTION', 'FALSE IMPRISONMENT',\n",
       "       'BURGLARY FROM VEHICLE, ATTEMPTED', 'FAILURE TO YIELD',\n",
       "       'THREATENING PHONE CALLS/LETTERS', 'VEHICLE - ATTEMPT STOLEN',\n",
       "       'EMBEZZLEMENT, PETTY THEFT ($950 & UNDER)',\n",
       "       'UNAUTHORIZED COMPUTER ACCESS', 'COUNTERFEIT',\n",
       "       'DISTURBING THE PEACE', 'CREDIT CARDS, FRAUD USE ($950 & UNDER',\n",
       "       'PICKPOCKET', 'THEFT FROM PERSON - ATTEMPT',\n",
       "       'SHOTS FIRED AT MOVING VEHICLE, TRAIN OR AIRCRAFT', 'PROWLER',\n",
       "       'CHILD ANNOYING (17YRS & UNDER)',\n",
       "       'ASSAULT WITH DEADLY WEAPON ON POLICE OFFICER',\n",
       "       'CRM AGNST CHLD (13 OR UNDER) (14-15 & SUSP 10 YRS OLDER)',\n",
       "       'CHILD PORNOGRAPHY', 'LEWD/LASCIVIOUS ACTS WITH CHILD',\n",
       "       'PEEPING TOM', 'CRIMINAL HOMICIDE',\n",
       "       'SEX,UNLAWFUL(INC MUTUAL CONSENT, PENETRATION W/ FRGN OBJ',\n",
       "       'BATTERY ON A FIREFIGHTER', 'TILL TAP - PETTY ($950 & UNDER)',\n",
       "       'STALKING', 'SEX OFFENDER REGISTRANT OUT OF COMPLIANCE',\n",
       "       'HUMAN TRAFFICKING - COMMERCIAL SEX ACTS', 'FALSE POLICE REPORT',\n",
       "       'RECKLESS DRIVING', 'CREDIT CARDS, FRAUD USE ($950.01 & OVER)',\n",
       "       'BIKE - ATTEMPTED STOLEN', 'CHILD STEALING',\n",
       "       'DOCUMENT WORTHLESS ($200 & UNDER)',\n",
       "       'DOCUMENT WORTHLESS ($200.01 & OVER)', 'CONSPIRACY',\n",
       "       'CONTRIBUTING', 'CRUELTY TO ANIMALS',\n",
       "       'CHILD ABUSE (PHYSICAL) - AGGRAVATED ASSAULT', 'PANDERING',\n",
       "       'DISHONEST EMPLOYEE - GRAND THEFT', 'PIMPING',\n",
       "       'THEFT, COIN MACHINE - GRAND ($950.01 & OVER)', 'ILLEGAL DUMPING',\n",
       "       'LYNCHING', 'DRIVING WITHOUT OWNER CONSENT (DWOC)',\n",
       "       'HUMAN TRAFFICKING - INVOLUNTARY SERVITUDE',\n",
       "       'WEAPONS POSSESSION/BOMBING', 'DISRUPT SCHOOL',\n",
       "       'THEFT, COIN MACHINE - ATTEMPT',\n",
       "       'THEFT, COIN MACHINE - PETTY ($950 & UNDER)', 'BOAT - STOLEN',\n",
       "       'TILL TAP - GRAND THEFT ($950.01 & OVER)',\n",
       "       'PETTY THEFT - AUTO REPAIR', 'MANSLAUGHTER, NEGLIGENT',\n",
       "       'PURSE SNATCHING - ATTEMPT', 'LYNCHING - ATTEMPTED', 'BRIBERY',\n",
       "       'GRAND THEFT / INSURANCE FRAUD',\n",
       "       'DISHONEST EMPLOYEE - PETTY THEFT',\n",
       "       'REPLICA FIREARMS(SALE,DISPLAY,MANUFACTURE OR DISTRIBUTE)',\n",
       "       'DRUGS, TO A MINOR', 'DRUNK ROLL', 'CHILD ABANDONMENT',\n",
       "       'FIREARMS RESTRAINING ORDER (FIREARMS RO)',\n",
       "       'GRAND THEFT / AUTO REPAIR',\n",
       "       'DEFRAUDING INNKEEPER/THEFT OF SERVICES, $950 & UNDER',\n",
       "       'PICKPOCKET, ATTEMPT',\n",
       "       'DEFRAUDING INNKEEPER/THEFT OF SERVICES, OVER $950.01',\n",
       "       'TELEPHONE PROPERTY - DAMAGE',\n",
       "       'BEASTIALITY, CRIME AGAINST NATURE SEXUAL ASSLT WITH ANIM',\n",
       "       'BIGAMY', 'FAILURE TO DISPERSE',\n",
       "       'FIREARMS EMERGENCY PROTECTIVE ORDER (FIREARMS EPO)',\n",
       "       'INCEST (SEXUAL ACTS BETWEEN BLOOD RELATIVES)',\n",
       "       'BLOCKING DOOR INDUCTION CENTER'], dtype=object)"
      ]
     },
     "execution_count": 12,
     "metadata": {},
     "output_type": "execute_result"
    }
   ],
   "source": [
    "df['Crm Cd Desc'].unique()"
   ]
  },
  {
   "cell_type": "code",
   "execution_count": 13,
   "id": "b18a780b",
   "metadata": {},
   "outputs": [
    {
     "data": {
      "text/plain": [
       "array(['Adult Other', 'Invest Cont', 'Adult Arrest', 'Juv Arrest',\n",
       "       'Juv Other'], dtype=object)"
      ]
     },
     "execution_count": 13,
     "metadata": {},
     "output_type": "execute_result"
    }
   ],
   "source": [
    "df['Status Desc'].unique()"
   ]
  },
  {
   "cell_type": "markdown",
   "id": "0c613d66",
   "metadata": {},
   "source": [
    "### Fixing time occ \n",
    "\n",
    "Time is in an awkward format. It has 3 digits for some, and 4 digits for other rows. "
   ]
  },
  {
   "cell_type": "code",
   "execution_count": 14,
   "id": "cffef062",
   "metadata": {
    "scrolled": true
   },
   "outputs": [
    {
     "data": {
      "text/plain": [
       "array([2230,  330, 1730, ...,  559,  818,  841], dtype=int64)"
      ]
     },
     "execution_count": 14,
     "metadata": {},
     "output_type": "execute_result"
    }
   ],
   "source": [
    "(df['TIME OCC'].unique())"
   ]
  },
  {
   "cell_type": "code",
   "execution_count": 15,
   "id": "b9f05e33",
   "metadata": {},
   "outputs": [
    {
     "data": {
      "text/plain": [
       "DR_NO               int64\n",
       "Date Rptd          object\n",
       "DATE OCC           object\n",
       "TIME OCC            int64\n",
       "AREA                int64\n",
       "AREA NAME          object\n",
       "Rpt Dist No         int64\n",
       "Part 1-2            int64\n",
       "Crm Cd              int64\n",
       "Crm Cd Desc        object\n",
       "Mocodes            object\n",
       "Vict Age            int64\n",
       "Vict Sex           object\n",
       "Vict Descent       object\n",
       "Premis Cd         float64\n",
       "Premis Desc        object\n",
       "Weapon Used Cd    float64\n",
       "Weapon Desc        object\n",
       "Status             object\n",
       "Status Desc        object\n",
       "Crm Cd 1          float64\n",
       "Crm Cd 2          float64\n",
       "Crm Cd 3          float64\n",
       "Crm Cd 4          float64\n",
       "LOCATION           object\n",
       "Cross Street       object\n",
       "LAT               float64\n",
       "LON               float64\n",
       "dtype: object"
      ]
     },
     "execution_count": 15,
     "metadata": {},
     "output_type": "execute_result"
    }
   ],
   "source": [
    "df.dtypes"
   ]
  },
  {
   "cell_type": "code",
   "execution_count": 16,
   "id": "574668c7",
   "metadata": {},
   "outputs": [],
   "source": [
    "df['timeCorrected'] = df['TIME OCC'].astype('str')"
   ]
  },
  {
   "cell_type": "code",
   "execution_count": 17,
   "id": "6710ef4d",
   "metadata": {},
   "outputs": [
    {
     "data": {
      "text/plain": [
       "0         4\n",
       "1         3\n",
       "2         4\n",
       "3         3\n",
       "4         2\n",
       "         ..\n",
       "541348    2\n",
       "541349    4\n",
       "541350    4\n",
       "541351    4\n",
       "541352    3\n",
       "Name: timeLength, Length: 541353, dtype: int64"
      ]
     },
     "execution_count": 17,
     "metadata": {},
     "output_type": "execute_result"
    }
   ],
   "source": [
    "df['timeLength'] = df['timeCorrected'].apply(lambda x: len(x))\n",
    "df['timeLength']"
   ]
  },
  {
   "cell_type": "code",
   "execution_count": 18,
   "id": "830ebffd",
   "metadata": {},
   "outputs": [],
   "source": [
    "df = df[df['timeLength'] > 2]"
   ]
  },
  {
   "cell_type": "code",
   "execution_count": 19,
   "id": "ce4bce8d",
   "metadata": {},
   "outputs": [
    {
     "data": {
      "text/plain": [
       "4    392966\n",
       "3    126136\n",
       "Name: timeLength, dtype: int64"
      ]
     },
     "execution_count": 19,
     "metadata": {},
     "output_type": "execute_result"
    }
   ],
   "source": [
    "df['timeLength'].value_counts()"
   ]
  },
  {
   "cell_type": "code",
   "execution_count": 66,
   "id": "dd7aab93",
   "metadata": {},
   "outputs": [
    {
     "name": "stdout",
     "output_type": "stream",
     "text": [
      "22:30\n",
      "03:30\n",
      "17:30\n",
      "04:15\n",
      "13:15\n",
      "02:00\n",
      "22:00\n",
      "09:55\n",
      "13:55\n",
      "16:38\n",
      "18:05\n",
      "19:00\n",
      "13:30\n",
      "14:45\n",
      "07:00\n",
      "20:00\n",
      "12:00\n",
      "04:00\n",
      "06:00\n",
      "15:00\n",
      "21:00\n",
      "19:30\n",
      "23:00\n"
     ]
    }
   ],
   "source": [
    "for i in df['timeCorrected'].head(25).unique():\n",
    "    print(i)"
   ]
  },
  {
   "cell_type": "code",
   "execution_count": 21,
   "id": "6bbe6bff",
   "metadata": {},
   "outputs": [],
   "source": [
    "def addingZero(x):\n",
    "    if len(x) == 3:\n",
    "        x = '0' + x\n",
    "        return x\n",
    "    else:\n",
    "        return x"
   ]
  },
  {
   "cell_type": "code",
   "execution_count": 22,
   "id": "98ee549f",
   "metadata": {},
   "outputs": [
    {
     "data": {
      "text/plain": [
       "4    392966\n",
       "3    126136\n",
       "Name: timeLength, dtype: int64"
      ]
     },
     "execution_count": 22,
     "metadata": {},
     "output_type": "execute_result"
    }
   ],
   "source": [
    "df['timeLength'] = df['timeCorrected'].apply(lambda x: len(x))\n",
    "df['timeLength'].value_counts()"
   ]
  },
  {
   "cell_type": "code",
   "execution_count": 23,
   "id": "a7a5dac9",
   "metadata": {},
   "outputs": [
    {
     "data": {
      "text/plain": [
       "0         2230\n",
       "1         0330\n",
       "2         1730\n",
       "3         0415\n",
       "5         1315\n",
       "          ... \n",
       "541347    1730\n",
       "541349    1530\n",
       "541350    2000\n",
       "541351    1800\n",
       "541352    0150\n",
       "Name: timeCorrected, Length: 519102, dtype: object"
      ]
     },
     "execution_count": 23,
     "metadata": {},
     "output_type": "execute_result"
    }
   ],
   "source": [
    "df['timeCorrected'] = df['timeCorrected'].apply(addingZero)\n",
    "df['timeCorrected']"
   ]
  },
  {
   "cell_type": "code",
   "execution_count": 24,
   "id": "a0b5cc9c",
   "metadata": {},
   "outputs": [
    {
     "data": {
      "text/plain": [
       "12:00    19677\n",
       "18:00    14857\n",
       "17:00    14028\n",
       "20:00    13833\n",
       "19:00    12866\n",
       "         ...  \n",
       "05:34        9\n",
       "07:41        9\n",
       "01:51        9\n",
       "05:31        8\n",
       "06:42        7\n",
       "Name: timeCorrected, Length: 1380, dtype: int64"
      ]
     },
     "execution_count": 24,
     "metadata": {},
     "output_type": "execute_result"
    }
   ],
   "source": [
    "df['timeCorrected'] = df['timeCorrected'].apply(lambda x: f'{x[:2]}:{x[2:]}')\n",
    "df['timeCorrected'].value_counts()"
   ]
  },
  {
   "cell_type": "code",
   "execution_count": 25,
   "id": "e86edc79",
   "metadata": {},
   "outputs": [
    {
     "data": {
      "text/plain": [
       "23"
      ]
     },
     "execution_count": 25,
     "metadata": {},
     "output_type": "execute_result"
    }
   ],
   "source": [
    "df['hourOfCrime'] = df['timeCorrected'].apply(lambda x: x[:2])\n",
    "len(df['hourOfCrime'].unique())"
   ]
  },
  {
   "cell_type": "markdown",
   "id": "8295f224",
   "metadata": {},
   "source": [
    "#### Adding mocodes"
   ]
  },
  {
   "cell_type": "code",
   "execution_count": 30,
   "id": "de4c2158",
   "metadata": {},
   "outputs": [
    {
     "data": {
      "text/html": [
       "<div>\n",
       "<style scoped>\n",
       "    .dataframe tbody tr th:only-of-type {\n",
       "        vertical-align: middle;\n",
       "    }\n",
       "\n",
       "    .dataframe tbody tr th {\n",
       "        vertical-align: top;\n",
       "    }\n",
       "\n",
       "    .dataframe thead th {\n",
       "        text-align: right;\n",
       "    }\n",
       "</style>\n",
       "<table border=\"1\" class=\"dataframe\">\n",
       "  <thead>\n",
       "    <tr style=\"text-align: right;\">\n",
       "      <th></th>\n",
       "      <th>Mocodes</th>\n",
       "      <th>desc</th>\n",
       "    </tr>\n",
       "  </thead>\n",
       "  <tbody>\n",
       "    <tr>\n",
       "      <th>0</th>\n",
       "      <td>0100</td>\n",
       "      <td>Suspect Impersonate</td>\n",
       "    </tr>\n",
       "    <tr>\n",
       "      <th>1</th>\n",
       "      <td>0101</td>\n",
       "      <td>Aid victim</td>\n",
       "    </tr>\n",
       "    <tr>\n",
       "      <th>2</th>\n",
       "      <td>0102</td>\n",
       "      <td>Blind</td>\n",
       "    </tr>\n",
       "    <tr>\n",
       "      <th>3</th>\n",
       "      <td>0103</td>\n",
       "      <td>Physically disabled</td>\n",
       "    </tr>\n",
       "    <tr>\n",
       "      <th>4</th>\n",
       "      <td>0104</td>\n",
       "      <td>Customer</td>\n",
       "    </tr>\n",
       "    <tr>\n",
       "      <th>...</th>\n",
       "      <td>...</td>\n",
       "      <td>...</td>\n",
       "    </tr>\n",
       "    <tr>\n",
       "      <th>747</th>\n",
       "      <td>2311</td>\n",
       "      <td>Acquisition of expertise</td>\n",
       "    </tr>\n",
       "    <tr>\n",
       "      <th>748</th>\n",
       "      <td>2312</td>\n",
       "      <td>Weapons discovery</td>\n",
       "    </tr>\n",
       "    <tr>\n",
       "      <th>749</th>\n",
       "      <td>2313</td>\n",
       "      <td>Finance</td>\n",
       "    </tr>\n",
       "    <tr>\n",
       "      <th>750</th>\n",
       "      <td>2314</td>\n",
       "      <td>TSC hit</td>\n",
       "    </tr>\n",
       "    <tr>\n",
       "      <th>751</th>\n",
       "      <td>2315</td>\n",
       "      <td>Sector-Specific Incident (SSI)</td>\n",
       "    </tr>\n",
       "  </tbody>\n",
       "</table>\n",
       "<p>752 rows × 2 columns</p>\n",
       "</div>"
      ],
      "text/plain": [
       "    Mocodes                            desc\n",
       "0      0100             Suspect Impersonate\n",
       "1      0101                      Aid victim\n",
       "2      0102                           Blind\n",
       "3      0103             Physically disabled\n",
       "4      0104                        Customer\n",
       "..      ...                             ...\n",
       "747    2311        Acquisition of expertise\n",
       "748    2312               Weapons discovery\n",
       "749    2313                         Finance\n",
       "750    2314                         TSC hit\n",
       "751    2315  Sector-Specific Incident (SSI)\n",
       "\n",
       "[752 rows x 2 columns]"
      ]
     },
     "execution_count": 30,
     "metadata": {},
     "output_type": "execute_result"
    }
   ],
   "source": [
    "mocodes = pd.read_csv(\"mocodes1.txt\")\n",
    "mocodes"
   ]
  },
  {
   "cell_type": "code",
   "execution_count": 31,
   "id": "2ede5bfc",
   "metadata": {},
   "outputs": [
    {
     "data": {
      "text/html": [
       "<div>\n",
       "<style scoped>\n",
       "    .dataframe tbody tr th:only-of-type {\n",
       "        vertical-align: middle;\n",
       "    }\n",
       "\n",
       "    .dataframe tbody tr th {\n",
       "        vertical-align: top;\n",
       "    }\n",
       "\n",
       "    .dataframe thead th {\n",
       "        text-align: right;\n",
       "    }\n",
       "</style>\n",
       "<table border=\"1\" class=\"dataframe\">\n",
       "  <thead>\n",
       "    <tr style=\"text-align: right;\">\n",
       "      <th></th>\n",
       "      <th>Mocodes</th>\n",
       "      <th>desc</th>\n",
       "    </tr>\n",
       "  </thead>\n",
       "  <tbody>\n",
       "    <tr>\n",
       "      <th>0</th>\n",
       "      <td>0100</td>\n",
       "      <td>Suspect Impersonate</td>\n",
       "    </tr>\n",
       "  </tbody>\n",
       "</table>\n",
       "</div>"
      ],
      "text/plain": [
       "  Mocodes                 desc\n",
       "0    0100  Suspect Impersonate"
      ]
     },
     "execution_count": 31,
     "metadata": {},
     "output_type": "execute_result"
    }
   ],
   "source": [
    "mocodes.loc[mocodes['Mocodes'] == '0100']"
   ]
  },
  {
   "cell_type": "code",
   "execution_count": 32,
   "id": "bbc5dce3",
   "metadata": {},
   "outputs": [
    {
     "data": {
      "text/html": [
       "<div>\n",
       "<style scoped>\n",
       "    .dataframe tbody tr th:only-of-type {\n",
       "        vertical-align: middle;\n",
       "    }\n",
       "\n",
       "    .dataframe tbody tr th {\n",
       "        vertical-align: top;\n",
       "    }\n",
       "\n",
       "    .dataframe thead th {\n",
       "        text-align: right;\n",
       "    }\n",
       "</style>\n",
       "<table border=\"1\" class=\"dataframe\">\n",
       "  <thead>\n",
       "    <tr style=\"text-align: right;\">\n",
       "      <th></th>\n",
       "      <th>desc</th>\n",
       "    </tr>\n",
       "    <tr>\n",
       "      <th>Mocodes</th>\n",
       "      <th></th>\n",
       "    </tr>\n",
       "  </thead>\n",
       "  <tbody>\n",
       "    <tr>\n",
       "      <th>0100</th>\n",
       "      <td>Suspect Impersonate</td>\n",
       "    </tr>\n",
       "    <tr>\n",
       "      <th>0101</th>\n",
       "      <td>Aid victim</td>\n",
       "    </tr>\n",
       "    <tr>\n",
       "      <th>0102</th>\n",
       "      <td>Blind</td>\n",
       "    </tr>\n",
       "    <tr>\n",
       "      <th>0103</th>\n",
       "      <td>Physically disabled</td>\n",
       "    </tr>\n",
       "    <tr>\n",
       "      <th>0104</th>\n",
       "      <td>Customer</td>\n",
       "    </tr>\n",
       "    <tr>\n",
       "      <th>...</th>\n",
       "      <td>...</td>\n",
       "    </tr>\n",
       "    <tr>\n",
       "      <th>2311</th>\n",
       "      <td>Acquisition of expertise</td>\n",
       "    </tr>\n",
       "    <tr>\n",
       "      <th>2312</th>\n",
       "      <td>Weapons discovery</td>\n",
       "    </tr>\n",
       "    <tr>\n",
       "      <th>2313</th>\n",
       "      <td>Finance</td>\n",
       "    </tr>\n",
       "    <tr>\n",
       "      <th>2314</th>\n",
       "      <td>TSC hit</td>\n",
       "    </tr>\n",
       "    <tr>\n",
       "      <th>2315</th>\n",
       "      <td>Sector-Specific Incident (SSI)</td>\n",
       "    </tr>\n",
       "  </tbody>\n",
       "</table>\n",
       "<p>752 rows × 1 columns</p>\n",
       "</div>"
      ],
      "text/plain": [
       "                                   desc\n",
       "Mocodes                                \n",
       "0100                Suspect Impersonate\n",
       "0101                         Aid victim\n",
       "0102                              Blind\n",
       "0103                Physically disabled\n",
       "0104                           Customer\n",
       "...                                 ...\n",
       "2311           Acquisition of expertise\n",
       "2312                  Weapons discovery\n",
       "2313                            Finance\n",
       "2314                            TSC hit\n",
       "2315     Sector-Specific Incident (SSI)\n",
       "\n",
       "[752 rows x 1 columns]"
      ]
     },
     "execution_count": 32,
     "metadata": {},
     "output_type": "execute_result"
    }
   ],
   "source": [
    "mocodes = mocodes.set_index(mocodes['Mocodes'])\n",
    "mocodes = mocodes.drop(columns='Mocodes')\n",
    "mocodes"
   ]
  },
  {
   "cell_type": "markdown",
   "id": "26bf1e25",
   "metadata": {},
   "source": [
    "#### More than 752 different codes"
   ]
  },
  {
   "cell_type": "code",
   "execution_count": 68,
   "id": "d72805d6",
   "metadata": {},
   "outputs": [],
   "source": [
    "mocodes1 = mocodes.to_dict()"
   ]
  },
  {
   "cell_type": "code",
   "execution_count": 69,
   "id": "d7808126",
   "metadata": {},
   "outputs": [],
   "source": [
    "mocodes2 = mocodes1['desc']"
   ]
  },
  {
   "cell_type": "code",
   "execution_count": 35,
   "id": "4905fe60",
   "metadata": {},
   "outputs": [
    {
     "data": {
      "text/plain": [
       "'No code specified'"
      ]
     },
     "execution_count": 35,
     "metadata": {},
     "output_type": "execute_result"
    }
   ],
   "source": [
    "mocodes2['0'] = 'No code specified'\n",
    "mocodes2['0']"
   ]
  },
  {
   "cell_type": "code",
   "execution_count": 36,
   "id": "340a18b5",
   "metadata": {
    "scrolled": true
   },
   "outputs": [
    {
     "data": {
      "text/plain": [
       "DR_NO                  0\n",
       "Date Rptd              0\n",
       "DATE OCC               0\n",
       "TIME OCC               0\n",
       "AREA                   0\n",
       "AREA NAME              0\n",
       "Rpt Dist No            0\n",
       "Part 1-2               0\n",
       "Crm Cd                 0\n",
       "Crm Cd Desc            0\n",
       "Mocodes            72793\n",
       "Vict Age               0\n",
       "Vict Sex           69775\n",
       "Vict Descent       69780\n",
       "Premis Cd              5\n",
       "Premis Desc          230\n",
       "Weapon Used Cd    334680\n",
       "Weapon Desc       334680\n",
       "Status                 0\n",
       "Status Desc            0\n",
       "Crm Cd 1               6\n",
       "Crm Cd 2          479127\n",
       "Crm Cd 3          517733\n",
       "Crm Cd 4          519062\n",
       "LOCATION               0\n",
       "Cross Street      430700\n",
       "LAT                    0\n",
       "LON                    0\n",
       "timeCorrected          0\n",
       "timeLength             0\n",
       "hourOfCrime            0\n",
       "dtype: int64"
      ]
     },
     "execution_count": 36,
     "metadata": {},
     "output_type": "execute_result"
    }
   ],
   "source": [
    "df.isna().sum()"
   ]
  },
  {
   "cell_type": "code",
   "execution_count": 37,
   "id": "a8fe7713",
   "metadata": {},
   "outputs": [
    {
     "data": {
      "text/plain": [
       "0                                                   [0444, 0913]\n",
       "1                                             [0416, 1822, 1414]\n",
       "2                                                   [0329, 1402]\n",
       "3                                                         [0329]\n",
       "5                                       [1402, 2004, 0344, 0387]\n",
       "                                   ...                          \n",
       "541347    [0344, 0432, 1822, 0334, 0302, 0355, 1310, 0216, 1227]\n",
       "541349                                                       NaN\n",
       "541350                                                       NaN\n",
       "541351                                              [0385, 1300]\n",
       "541352                            [0302, 0334, 0450, 1310, 1258]\n",
       "Name: MocodesAll, Length: 519102, dtype: object"
      ]
     },
     "execution_count": 37,
     "metadata": {},
     "output_type": "execute_result"
    }
   ],
   "source": [
    "df['MocodesAll'] = df['Mocodes'].str.split(' ')\n",
    "df['MocodesAll']"
   ]
  },
  {
   "cell_type": "code",
   "execution_count": 38,
   "id": "1bb0a16c",
   "metadata": {},
   "outputs": [
    {
     "data": {
      "text/plain": [
       "0"
      ]
     },
     "execution_count": 38,
     "metadata": {},
     "output_type": "execute_result"
    }
   ],
   "source": [
    "df['MocodesAll'] = df['MocodesAll'].fillna('')\n",
    "df['MocodesAll'].isna().sum()"
   ]
  },
  {
   "cell_type": "code",
   "execution_count": 39,
   "id": "b4d3afdd",
   "metadata": {},
   "outputs": [
    {
     "data": {
      "text/plain": [
       "0         2\n",
       "1         3\n",
       "2         2\n",
       "3         1\n",
       "5         4\n",
       "         ..\n",
       "541347    9\n",
       "541349    0\n",
       "541350    0\n",
       "541351    2\n",
       "541352    5\n",
       "Name: MocodesLen, Length: 519102, dtype: int64"
      ]
     },
     "execution_count": 39,
     "metadata": {},
     "output_type": "execute_result"
    }
   ],
   "source": [
    "df['MocodesLen'] = df['MocodesAll'].apply(lambda x:len(x))\n",
    "df['MocodesLen']"
   ]
  },
  {
   "cell_type": "code",
   "execution_count": 40,
   "id": "9f1d84a5",
   "metadata": {},
   "outputs": [
    {
     "data": {
      "text/plain": [
       "0                                                                                                                                                           [Pushed, Victim knew Suspect]\n",
       "1                                                                                                                                              [Hit-Hit w/ weapon, Stranger, Photographs]\n",
       "2                                                                                                                                               [Vandalized, Evidence Booked (any crime)]\n",
       "3                                                                                                                                                                            [Vandalized]\n",
       "5                                                               [Evidence Booked (any crime), Suspect is homeless/transient, Removes vict property, Weapon (other than gun) in waistband]\n",
       "                                                                                               ...                                                                                       \n",
       "541347    [Removes vict property, Intimidation, Stranger, Brandishes weapon, Aimed gun, Demanded property other than money, Victim in vehicle, Suspect wore hood/hoodie, Delivery person]\n",
       "541349                                                                                                                                                                                 []\n",
       "541350                                                                                                                                                                                 []\n",
       "541351                                                                                                                             [Suspect removed parts from vehicle, Vehicle involved]\n",
       "541352                                                       [Aimed gun, Brandishes weapon, Suspect shot at victim (no hits), Victim in vehicle, Victim is 6 years old thru 13 years old]\n",
       "Name: dfAllMoc, Length: 519102, dtype: object"
      ]
     },
     "execution_count": 40,
     "metadata": {},
     "output_type": "execute_result"
    }
   ],
   "source": [
    "df['dfAllMoc'] = df['MocodesAll'].apply(lambda x:list(filter(None,map(mocodes2.get,x))))\n",
    "df['dfAllMoc']"
   ]
  },
  {
   "cell_type": "code",
   "execution_count": 41,
   "id": "f2867dc2",
   "metadata": {},
   "outputs": [
    {
     "data": {
      "text/plain": [
       "0"
      ]
     },
     "execution_count": 41,
     "metadata": {},
     "output_type": "execute_result"
    }
   ],
   "source": [
    "df['dfAllMoc'].isnull().sum()"
   ]
  },
  {
   "cell_type": "code",
   "execution_count": 42,
   "id": "714d03be",
   "metadata": {},
   "outputs": [
    {
     "data": {
      "text/plain": [
       "Index(['DR_NO', 'Date Rptd', 'DATE OCC', 'TIME OCC', 'AREA', 'AREA NAME',\n",
       "       'Rpt Dist No', 'Part 1-2', 'Crm Cd', 'Crm Cd Desc', 'Mocodes',\n",
       "       'Vict Age', 'Vict Sex', 'Vict Descent', 'Premis Cd', 'Premis Desc',\n",
       "       'Weapon Used Cd', 'Weapon Desc', 'Status', 'Status Desc', 'Crm Cd 1',\n",
       "       'Crm Cd 2', 'Crm Cd 3', 'Crm Cd 4', 'LOCATION', 'Cross Street', 'LAT',\n",
       "       'LON', 'timeCorrected', 'timeLength', 'hourOfCrime', 'MocodesAll',\n",
       "       'MocodesLen', 'dfAllMoc'],\n",
       "      dtype='object')"
      ]
     },
     "execution_count": 42,
     "metadata": {},
     "output_type": "execute_result"
    }
   ],
   "source": [
    "df.columns"
   ]
  },
  {
   "cell_type": "code",
   "execution_count": 43,
   "id": "5ad1da16",
   "metadata": {
    "scrolled": true
   },
   "outputs": [],
   "source": [
    "def mocodinator2(col):\n",
    "    for i in col:\n",
    "        if len(i) == 0:\n",
    "            return 'No Code Specified'\n",
    "        else:\n",
    "            return col"
   ]
  },
  {
   "cell_type": "code",
   "execution_count": 44,
   "id": "bfc4b170",
   "metadata": {},
   "outputs": [
    {
     "data": {
      "text/plain": [
       "0                                                                                                                                                           [Pushed, Victim knew Suspect]\n",
       "1                                                                                                                                              [Hit-Hit w/ weapon, Stranger, Photographs]\n",
       "2                                                                                                                                               [Vandalized, Evidence Booked (any crime)]\n",
       "3                                                                                                                                                                            [Vandalized]\n",
       "5                                                               [Evidence Booked (any crime), Suspect is homeless/transient, Removes vict property, Weapon (other than gun) in waistband]\n",
       "                                                                                               ...                                                                                       \n",
       "541347    [Removes vict property, Intimidation, Stranger, Brandishes weapon, Aimed gun, Demanded property other than money, Victim in vehicle, Suspect wore hood/hoodie, Delivery person]\n",
       "541349                                                                                                                                                                               None\n",
       "541350                                                                                                                                                                               None\n",
       "541351                                                                                                                             [Suspect removed parts from vehicle, Vehicle involved]\n",
       "541352                                                       [Aimed gun, Brandishes weapon, Suspect shot at victim (no hits), Victim in vehicle, Victim is 6 years old thru 13 years old]\n",
       "Name: AllMoc, Length: 519102, dtype: object"
      ]
     },
     "execution_count": 44,
     "metadata": {},
     "output_type": "execute_result"
    }
   ],
   "source": [
    "df['AllMoc'] = df['dfAllMoc'].apply(mocodinator2)\n",
    "df['AllMoc']"
   ]
  },
  {
   "cell_type": "code",
   "execution_count": 45,
   "id": "68ea9a9e",
   "metadata": {},
   "outputs": [
    {
     "data": {
      "text/html": [
       "<div>\n",
       "<style scoped>\n",
       "    .dataframe tbody tr th:only-of-type {\n",
       "        vertical-align: middle;\n",
       "    }\n",
       "\n",
       "    .dataframe tbody tr th {\n",
       "        vertical-align: top;\n",
       "    }\n",
       "\n",
       "    .dataframe thead th {\n",
       "        text-align: right;\n",
       "    }\n",
       "</style>\n",
       "<table border=\"1\" class=\"dataframe\">\n",
       "  <thead>\n",
       "    <tr style=\"text-align: right;\">\n",
       "      <th></th>\n",
       "      <th>DR_NO</th>\n",
       "      <th>Date Rptd</th>\n",
       "      <th>DATE OCC</th>\n",
       "      <th>TIME OCC</th>\n",
       "      <th>AREA</th>\n",
       "      <th>AREA NAME</th>\n",
       "      <th>Rpt Dist No</th>\n",
       "      <th>Part 1-2</th>\n",
       "      <th>Crm Cd</th>\n",
       "      <th>Crm Cd Desc</th>\n",
       "      <th>...</th>\n",
       "      <th>Cross Street</th>\n",
       "      <th>LAT</th>\n",
       "      <th>LON</th>\n",
       "      <th>timeCorrected</th>\n",
       "      <th>timeLength</th>\n",
       "      <th>hourOfCrime</th>\n",
       "      <th>MocodesAll</th>\n",
       "      <th>MocodesLen</th>\n",
       "      <th>dfAllMoc</th>\n",
       "      <th>AllMoc</th>\n",
       "    </tr>\n",
       "  </thead>\n",
       "  <tbody>\n",
       "  </tbody>\n",
       "</table>\n",
       "<p>0 rows × 35 columns</p>\n",
       "</div>"
      ],
      "text/plain": [
       "Empty DataFrame\n",
       "Columns: [DR_NO, Date Rptd, DATE OCC, TIME OCC, AREA, AREA NAME, Rpt Dist No, Part 1-2, Crm Cd, Crm Cd Desc, Mocodes, Vict Age, Vict Sex, Vict Descent, Premis Cd, Premis Desc, Weapon Used Cd, Weapon Desc, Status, Status Desc, Crm Cd 1, Crm Cd 2, Crm Cd 3, Crm Cd 4, LOCATION, Cross Street, LAT, LON, timeCorrected, timeLength, hourOfCrime, MocodesAll, MocodesLen, dfAllMoc, AllMoc]\n",
       "Index: []\n",
       "\n",
       "[0 rows x 35 columns]"
      ]
     },
     "execution_count": 45,
     "metadata": {},
     "output_type": "execute_result"
    }
   ],
   "source": [
    "df.loc[df['AllMoc'] == '']"
   ]
  },
  {
   "cell_type": "markdown",
   "id": "5b09f969",
   "metadata": {},
   "source": [
    "#### Question, which mocodes appear most frequently together?"
   ]
  },
  {
   "cell_type": "code",
   "execution_count": 46,
   "id": "0c829bd2",
   "metadata": {},
   "outputs": [],
   "source": [
    "df.to_csv('Crime Data LA Cleaned.csv')"
   ]
  },
  {
   "cell_type": "code",
   "execution_count": 47,
   "id": "408b22b3",
   "metadata": {},
   "outputs": [
    {
     "data": {
      "text/plain": [
       "519102"
      ]
     },
     "execution_count": 47,
     "metadata": {},
     "output_type": "execute_result"
    }
   ],
   "source": [
    "len(df['DR_NO'].unique())"
   ]
  },
  {
   "cell_type": "code",
   "execution_count": 50,
   "id": "9fa068ec",
   "metadata": {},
   "outputs": [
    {
     "data": {
      "text/plain": [
       "DR_NO               int64\n",
       "Date Rptd          object\n",
       "DATE OCC           object\n",
       "TIME OCC            int64\n",
       "AREA                int64\n",
       "AREA NAME          object\n",
       "Rpt Dist No         int64\n",
       "Part 1-2            int64\n",
       "Crm Cd              int64\n",
       "Crm Cd Desc        object\n",
       "Mocodes            object\n",
       "Vict Age            int64\n",
       "Vict Sex           object\n",
       "Vict Descent       object\n",
       "Premis Cd         float64\n",
       "Premis Desc        object\n",
       "Weapon Used Cd    float64\n",
       "Weapon Desc        object\n",
       "Status             object\n",
       "Status Desc        object\n",
       "Crm Cd 1          float64\n",
       "Crm Cd 2          float64\n",
       "Crm Cd 3          float64\n",
       "Crm Cd 4          float64\n",
       "LOCATION           object\n",
       "Cross Street       object\n",
       "LAT               float64\n",
       "LON               float64\n",
       "timeCorrected      object\n",
       "timeLength          int64\n",
       "hourOfCrime        object\n",
       "MocodesAll         object\n",
       "MocodesLen          int64\n",
       "dfAllMoc           object\n",
       "AllMoc             object\n",
       "dtype: object"
      ]
     },
     "execution_count": 50,
     "metadata": {},
     "output_type": "execute_result"
    }
   ],
   "source": [
    "df.dtypes"
   ]
  },
  {
   "cell_type": "code",
   "execution_count": 76,
   "id": "4ba6ad93",
   "metadata": {},
   "outputs": [
    {
     "data": {
      "text/plain": [
       "DR_NO             257\n",
       "Date Rptd         257\n",
       "DATE OCC          257\n",
       "TIME OCC          257\n",
       "AREA              257\n",
       "AREA NAME         257\n",
       "Rpt Dist No       257\n",
       "Part 1-2          257\n",
       "Crm Cd            257\n",
       "Mocodes           256\n",
       "Vict Age          257\n",
       "Vict Sex          257\n",
       "Vict Descent      257\n",
       "Premis Cd         257\n",
       "Premis Desc       257\n",
       "Weapon Used Cd     51\n",
       "Weapon Desc        51\n",
       "Status            257\n",
       "Status Desc       257\n",
       "Crm Cd 1          257\n",
       "Crm Cd 2           92\n",
       "Crm Cd 3            0\n",
       "Crm Cd 4            0\n",
       "LOCATION          257\n",
       "Cross Street      199\n",
       "LAT               257\n",
       "LON               257\n",
       "timeCorrected     257\n",
       "timeLength        257\n",
       "hourOfCrime       257\n",
       "MocodesAll        257\n",
       "MocodesLen        257\n",
       "dfAllMoc          257\n",
       "AllMoc            256\n",
       "Name: HUMAN TRAFFICKING - COMMERCIAL SEX ACTS, dtype: int64"
      ]
     },
     "execution_count": 76,
     "metadata": {},
     "output_type": "execute_result"
    }
   ],
   "source": [
    "grouped = df.groupby('Crm Cd Desc').count().sort_values('DR_NO', ascending=False)\n",
    "grouped.loc['HUMAN TRAFFICKING - COMMERCIAL SEX ACTS']"
   ]
  },
  {
   "cell_type": "code",
   "execution_count": 56,
   "id": "e5e0bab5",
   "metadata": {},
   "outputs": [
    {
     "data": {
      "text/plain": [
       "<AxesSubplot:xlabel='Vict Sex', ylabel='Count'>"
      ]
     },
     "execution_count": 56,
     "metadata": {},
     "output_type": "execute_result"
    },
    {
     "data": {
      "image/png": "[encoded data removed]",
      "text/plain": [
       "<Figure size 576x432 with 1 Axes>"
      ]
     },
     "metadata": {
      "needs_background": "light"
     },
     "output_type": "display_data"
    }
   ],
   "source": [
    "plt.figure(figsize=(8,6))\n",
    "\n",
    "sns.histplot(data=df['Vict Sex'])"
   ]
  },
  {
   "cell_type": "markdown",
   "id": "21d24962",
   "metadata": {},
   "source": [
    "In the dataset description only F,M, and X is given. Not sure what H means. X means NA in the data."
   ]
  },
  {
   "cell_type": "code",
   "execution_count": 70,
   "id": "6bd5fff2",
   "metadata": {},
   "outputs": [
    {
     "data": {
      "text/plain": [
       "<AxesSubplot:xlabel='hourOfCrime', ylabel='Count'>"
      ]
     },
     "execution_count": 70,
     "metadata": {},
     "output_type": "execute_result"
    },
    {
     "data": {
      "image/png": "[encoded data removed]",
      "text/plain": [
       "<Figure size 576x432 with 1 Axes>"
      ]
     },
     "metadata": {},
     "output_type": "display_data"
    }
   ],
   "source": [
    "sns.set_style('darkgrid')\n",
    "plt.figure(figsize=(8,6))\n",
    "\n",
    "\n",
    "hour = df.copy()\n",
    "hour = hour.sort_values('hourOfCrime')\n",
    "\n",
    "sns.histplot(x=hour['hourOfCrime'], bins=24, kde=True)"
   ]
  },
  {
   "cell_type": "markdown",
   "id": "de03a397",
   "metadata": {},
   "source": [
    "Looks like most of the crimes are reported to be around 12PM, and then it keeps a high number until midnight.\n",
    "\n",
    "Note: The rest of the visualization is done through tableau."
   ]
  }
 ],
 "metadata": {
  "kernelspec": {
   "display_name": "Python 3 (ipykernel)",
   "language": "python",
   "name": "python3"
  },
  "language_info": {
   "codemirror_mode": {
    "name": "ipython",
    "version": 3
   },
   "file_extension": ".py",
   "mimetype": "text/x-python",
   "name": "python",
   "nbconvert_exporter": "python",
   "pygments_lexer": "ipython3",
   "version": "3.9.7"
  }
 },
 "nbformat": 4,
 "nbformat_minor": 5
}
